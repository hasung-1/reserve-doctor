{
 "cells": [
  {
   "cell_type": "code",
   "execution_count": 1,
   "metadata": {},
   "outputs": [
    {
     "data": {
      "text/plain": [
       "<QuerySet [<Reserve: Reserve object>, <Reserve: Reserve object>, <Reserve: Reserve object>, <Reserve: Reserve object>, <Reserve: Reserve object>, <Reserve: Reserve object>, <Reserve: Reserve object>, <Reserve: Reserve object>, <Reserve: Reserve object>, <Reserve: Reserve object>, <Reserve: Reserve object>, <Reserve: Reserve object>, <Reserve: Reserve object>, <Reserve: Reserve object>, <Reserve: Reserve object>]>"
      ]
     },
     "execution_count": 1,
     "metadata": {},
     "output_type": "execute_result"
    }
   ],
   "source": [
    "Reserve.objects.all()"
   ]
  },
  {
   "cell_type": "code",
   "execution_count": 4,
   "metadata": {},
   "outputs": [
    {
     "data": {
      "text/plain": [
       "<QuerySet [{'id': 29, 'hospital_id': 1, 'user_id': 1, 'date': datetime.date(2018, 3, 8), 'time_id': 2, 'doctor_id': 1, 'created_at': datetime.datetime(2018, 3, 5, 4, 59, 29, 531178, tzinfo=<UTC>)}, {'id': 30, 'hospital_id': 1, 'user_id': 1, 'date': datetime.date(2018, 3, 7), 'time_id': 4, 'doctor_id': 1, 'created_at': datetime.datetime(2018, 3, 5, 15, 31, 30, 93510, tzinfo=<UTC>)}, {'id': 28, 'hospital_id': 1, 'user_id': 1, 'date': datetime.date(2018, 3, 7), 'time_id': 3, 'doctor_id': 1, 'created_at': datetime.datetime(2018, 3, 5, 4, 59, 8, 624783, tzinfo=<UTC>)}, {'id': 27, 'hospital_id': 1, 'user_id': 1, 'date': datetime.date(2018, 3, 7), 'time_id': 2, 'doctor_id': 1, 'created_at': datetime.datetime(2018, 3, 5, 4, 21, 7, 175358, tzinfo=<UTC>)}, {'id': 25, 'hospital_id': 1, 'user_id': 1, 'date': datetime.date(2018, 3, 6), 'time_id': 1, 'doctor_id': 1, 'created_at': datetime.datetime(2018, 3, 5, 4, 14, 35, 63214, tzinfo=<UTC>)}, {'id': 24, 'hospital_id': 1, 'user_id': 1, 'date': datetime.date(2018, 3, 6), 'time_id': 9, 'doctor_id': 1, 'created_at': datetime.datetime(2018, 3, 5, 3, 53, 17, 407162, tzinfo=<UTC>)}, {'id': 21, 'hospital_id': 1, 'user_id': 1, 'date': datetime.date(2018, 3, 6), 'time_id': 8, 'doctor_id': 1, 'created_at': datetime.datetime(2018, 3, 4, 15, 54, 10, 694567, tzinfo=<UTC>)}, {'id': 20, 'hospital_id': 1, 'user_id': 1, 'date': datetime.date(2018, 3, 6), 'time_id': 7, 'doctor_id': 1, 'created_at': datetime.datetime(2018, 3, 4, 15, 51, 36, 544606, tzinfo=<UTC>)}, {'id': 19, 'hospital_id': 1, 'user_id': 1, 'date': datetime.date(2018, 3, 6), 'time_id': 6, 'doctor_id': 1, 'created_at': datetime.datetime(2018, 3, 3, 16, 38, 38, 260700, tzinfo=<UTC>)}, {'id': 18, 'hospital_id': 1, 'user_id': 1, 'date': datetime.date(2018, 3, 6), 'time_id': 4, 'doctor_id': 1, 'created_at': datetime.datetime(2018, 3, 3, 16, 6, 14, 222768, tzinfo=<UTC>)}, {'id': 17, 'hospital_id': 1, 'user_id': 1, 'date': datetime.date(2018, 3, 6), 'time_id': 3, 'doctor_id': 1, 'created_at': datetime.datetime(2018, 3, 3, 16, 5, 49, 644425, tzinfo=<UTC>)}, {'id': 15, 'hospital_id': 1, 'user_id': 1, 'date': datetime.date(2018, 3, 6), 'time_id': 2, 'doctor_id': 1, 'created_at': datetime.datetime(2018, 3, 3, 6, 42, 42, 704168, tzinfo=<UTC>)}, {'id': 12, 'hospital_id': 1, 'user_id': 1, 'date': datetime.date(2018, 3, 5), 'time_id': 2, 'doctor_id': 1, 'created_at': datetime.datetime(2018, 3, 2, 16, 18, 9, 604383, tzinfo=<UTC>)}, {'id': 11, 'hospital_id': 1, 'user_id': 1, 'date': datetime.date(2018, 3, 4), 'time_id': 2, 'doctor_id': 1, 'created_at': datetime.datetime(2018, 3, 2, 9, 8, 0, 473224, tzinfo=<UTC>)}, {'id': 10, 'hospital_id': 1, 'user_id': 1, 'date': datetime.date(2018, 3, 3), 'time_id': 3, 'doctor_id': 1, 'created_at': datetime.datetime(2018, 3, 2, 9, 0, 52, 709414, tzinfo=<UTC>)}]>"
      ]
     },
     "execution_count": 4,
     "metadata": {},
     "output_type": "execute_result"
    }
   ],
   "source": [
    "Reserve.objects.filter(user=1).values()"
   ]
  },
  {
   "cell_type": "code",
   "execution_count": 19,
   "metadata": {},
   "outputs": [],
   "source": [
    "now = datetime.datetime.now()\n",
    "times = Time.objects.filter(hospital_id=1,time__gte=now)"
   ]
  },
  {
   "cell_type": "code",
   "execution_count": 12,
   "metadata": {},
   "outputs": [
    {
     "data": {
      "text/plain": [
       "datetime.datetime(2018, 3, 9, 9, 55, 46, 40863)"
      ]
     },
     "execution_count": 12,
     "metadata": {},
     "output_type": "execute_result"
    }
   ],
   "source": [
    "datetime.datetime.now()"
   ]
  },
  {
   "cell_type": "code",
   "execution_count": 23,
   "metadata": {},
   "outputs": [
    {
     "data": {
      "text/plain": [
       "<QuerySet [{'id': 31, 'hospital_id': 1, 'user_id': 1, 'date': datetime.date(2018, 3, 10), 'time_id': 2, 'doctor_id': 1, 'created_at': datetime.datetime(2018, 3, 9, 1, 1, 32, 471415, tzinfo=<UTC>)}]>"
      ]
     },
     "execution_count": 23,
     "metadata": {},
     "output_type": "execute_result"
    }
   ],
   "source": [
    "#현재 날짜 이후\n",
    "Reserve.objects.filter(hospital_id=1,date__gte=now).values()"
   ]
  },
  {
   "cell_type": "code",
   "execution_count": null,
   "metadata": {},
   "outputs": [],
   "source": []
  }
 ],
 "metadata": {
  "kernelspec": {
   "display_name": "Django Shell-Plus",
   "language": "python",
   "name": "django_extensions"
  },
  "language_info": {
   "codemirror_mode": {
    "name": "ipython",
    "version": 3
   },
   "file_extension": ".py",
   "mimetype": "text/x-python",
   "name": "python",
   "nbconvert_exporter": "python",
   "pygments_lexer": "ipython3",
   "version": "3.6.3"
  }
 },
 "nbformat": 4,
 "nbformat_minor": 2
}
