{
 "cells": [
  {
   "cell_type": "code",
<<<<<<< HEAD
   "execution_count": 2,
=======
   "execution_count": 3,
>>>>>>> 1350833d3f376950a4593cbd590f126cfcd83d17
   "metadata": {},
   "outputs": [
    {
     "data": {
      "text/plain": [
<<<<<<< HEAD
       "<QuerySet [{'id': 13, 'hospital_id': 1, 'user_id': 1, 'date': datetime.date(2018, 3, 8), 'time_id': 3, 'doctor_id': 1, 'created_at': datetime.datetime(2018, 3, 2, 16, 23, 7, 226171, tzinfo=<UTC>)}, {'id': 14, 'hospital_id': 1, 'user_id': 1, 'date': datetime.date(2018, 3, 8), 'time_id': 2, 'doctor_id': 1, 'created_at': datetime.datetime(2018, 3, 2, 16, 27, 12, 383023, tzinfo=<UTC>)}, {'id': 16, 'hospital_id': 1, 'user_id': 1, 'date': datetime.date(2018, 3, 7), 'time_id': 2, 'doctor_id': 1, 'created_at': datetime.datetime(2018, 3, 3, 15, 26, 24, 252507, tzinfo=<UTC>)}, {'id': 18, 'hospital_id': 1, 'user_id': 1, 'date': datetime.date(2018, 3, 6), 'time_id': 4, 'doctor_id': 1, 'created_at': datetime.datetime(2018, 3, 3, 16, 6, 14, 222768, tzinfo=<UTC>)}, {'id': 17, 'hospital_id': 1, 'user_id': 1, 'date': datetime.date(2018, 3, 6), 'time_id': 3, 'doctor_id': 1, 'created_at': datetime.datetime(2018, 3, 3, 16, 5, 49, 644425, tzinfo=<UTC>)}, {'id': 15, 'hospital_id': 1, 'user_id': 1, 'date': datetime.date(2018, 3, 6), 'time_id': 2, 'doctor_id': 1, 'created_at': datetime.datetime(2018, 3, 3, 6, 42, 42, 704168, tzinfo=<UTC>)}, {'id': 12, 'hospital_id': 1, 'user_id': 1, 'date': datetime.date(2018, 3, 5), 'time_id': 2, 'doctor_id': 1, 'created_at': datetime.datetime(2018, 3, 2, 16, 18, 9, 604383, tzinfo=<UTC>)}, {'id': 11, 'hospital_id': 1, 'user_id': 1, 'date': datetime.date(2018, 3, 4), 'time_id': 2, 'doctor_id': 1, 'created_at': datetime.datetime(2018, 3, 2, 9, 8, 0, 473224, tzinfo=<UTC>)}, {'id': 10, 'hospital_id': 1, 'user_id': 1, 'date': datetime.date(2018, 3, 3), 'time_id': 3, 'doctor_id': 1, 'created_at': datetime.datetime(2018, 3, 2, 9, 0, 52, 709414, tzinfo=<UTC>)}]>"
      ]
     },
     "execution_count": 2,
=======
       "<QuerySet [(1, '00', '일반의'), (14, '13', '이비인후과')]>"
      ]
     },
     "execution_count": 3,
>>>>>>> 1350833d3f376950a4593cbd590f126cfcd83d17
     "metadata": {},
     "output_type": "execute_result"
    }
   ],
   "source": [
<<<<<<< HEAD
    "Reserve.objects.all().values()"
=======
    "Hospital.objects.first().subjects.all().values_list()"
>>>>>>> 1350833d3f376950a4593cbd590f126cfcd83d17
   ]
  },
  {
   "cell_type": "code",
<<<<<<< HEAD
   "execution_count": 5,
=======
   "execution_count": 7,
>>>>>>> 1350833d3f376950a4593cbd590f126cfcd83d17
   "metadata": {},
   "outputs": [
    {
     "data": {
      "text/plain": [
<<<<<<< HEAD
       "True"
      ]
     },
     "execution_count": 5,
=======
       "<Hospital: 나루이비인후과의원>"
      ]
     },
     "execution_count": 7,
>>>>>>> 1350833d3f376950a4593cbd590f126cfcd83d17
     "metadata": {},
     "output_type": "execute_result"
    }
   ],
   "source": [
<<<<<<< HEAD
    "Reserve.objects.filter(hospital=1,doctor=1,time=4,date='2018-03-06').exists()"
=======
    "Hospital.objects.first()"
   ]
  },
  {
   "cell_type": "code",
   "execution_count": 13,
   "metadata": {},
   "outputs": [
    {
     "data": {
      "text/plain": [
       "<Hospital: 나루이비인후과의원>"
      ]
     },
     "execution_count": 13,
     "metadata": {},
     "output_type": "execute_result"
    }
   ],
   "source": [
    "Hospital.objects.first()"
   ]
  },
  {
   "cell_type": "code",
   "execution_count": 20,
   "metadata": {},
   "outputs": [
    {
     "data": {
      "text/plain": [
       "accounts.models.User"
      ]
     },
     "execution_count": 20,
     "metadata": {},
     "output_type": "execute_result"
    }
   ],
   "source": [
    "User"
   ]
  },
  {
   "cell_type": "code",
   "execution_count": 21,
   "metadata": {},
   "outputs": [
    {
     "data": {
      "text/plain": [
       "<django.contrib.auth.models.UserManager at 0x1ba3dfd6da0>"
      ]
     },
     "execution_count": 21,
     "metadata": {},
     "output_type": "execute_result"
    }
   ],
   "source": [
    "User.objects"
   ]
  },
  {
   "cell_type": "code",
   "execution_count": 22,
   "metadata": {},
   "outputs": [
    {
     "data": {
      "text/plain": [
       "django.db.models.query.QuerySet"
      ]
     },
     "execution_count": 22,
     "metadata": {},
     "output_type": "execute_result"
    }
   ],
   "source": [
    "User.objects.all().__class__"
   ]
  },
  {
   "cell_type": "code",
   "execution_count": 26,
   "metadata": {},
   "outputs": [
    {
     "data": {
      "text/plain": [
       "<QuerySet [<User: hos>, <User: fff>, <User: ddd>, <User: ccc>, <User: abc>, <User: aaa>, <User: yhn>]>"
      ]
     },
     "execution_count": 26,
     "metadata": {},
     "output_type": "execute_result"
    }
   ],
   "source": [
    "User.objects.all().order_by('-id')"
   ]
  },
  {
   "cell_type": "code",
   "execution_count": 27,
   "metadata": {},
   "outputs": [
    {
     "data": {
      "text/plain": [
       "{'sql': 'SELECT \"accounts_user\".\"id\", \"accounts_user\".\"password\", \"accounts_user\".\"last_login\", \"accounts_user\".\"is_superuser\", \"accounts_user\".\"username\", \"accounts_user\".\"first_name\", \"accounts_user\".\"last_name\", \"accounts_user\".\"email\", \"accounts_user\".\"is_staff\", \"accounts_user\".\"is_active\", \"accounts_user\".\"date_joined\", \"accounts_user\".\"user_type\" FROM \"accounts_user\" ORDER BY \"accounts_user\".\"id\" DESC LIMIT 21',\n",
       " 'time': '0.002'}"
      ]
     },
     "execution_count": 27,
     "metadata": {},
     "output_type": "execute_result"
    }
   ],
   "source": [
    "from django.db import connection\n",
    "connection.queries[-1]"
   ]
  },
  {
   "cell_type": "code",
   "execution_count": 28,
   "metadata": {},
   "outputs": [
    {
     "data": {
      "text/plain": [
       "<User: 화곡병원>"
      ]
     },
     "execution_count": 28,
     "metadata": {},
     "output_type": "execute_result"
    }
   ],
   "source": [
    "User.objects.create(username='화곡병원',password='ghkrhr123',user_type='2')"
   ]
  },
  {
   "cell_type": "code",
   "execution_count": 1,
   "metadata": {},
   "outputs": [
    {
     "data": {
      "text/plain": [
       "<QuerySet [<Subject: 전체>, <Subject: 일반의>, <Subject: 내과>, <Subject: 신경과>, <Subject: 정신건강의학과>, <Subject: 외과>, <Subject: 정형외과>, <Subject: 신경외과>, <Subject: 흉부외과>, <Subject: 성형외과>, <Subject: 마취통증의학과>, <Subject: 산부인과>, <Subject: 소아청소년과>, <Subject: 안과>, <Subject: 이비인후과>, <Subject: 피부과>, <Subject: 비뇨기과>, <Subject: 영상의학과>, <Subject: 방사선종양학과>, <Subject: 병리과>, '...(remaining elements truncated)...']>"
      ]
     },
     "execution_count": 1,
     "metadata": {},
     "output_type": "execute_result"
    }
   ],
   "source": [
    "Subject.objects.all()"
   ]
  },
  {
   "cell_type": "code",
   "execution_count": 1,
   "metadata": {},
   "outputs": [
    {
     "data": {
      "text/plain": [
       "<QuerySet []>"
      ]
     },
     "execution_count": 1,
     "metadata": {},
     "output_type": "execute_result"
    }
   ],
   "source": [
    "Hospital_User.objects.all()"
   ]
  },
  {
   "cell_type": "code",
   "execution_count": 40,
   "metadata": {},
   "outputs": [
    {
     "data": {
      "text/plain": [
       "<QuerySet []>"
      ]
     },
     "execution_count": 40,
     "metadata": {},
     "output_type": "execute_result"
    }
   ],
   "source": [
    "Personal_User.objects.all()"
   ]
  },
  {
   "cell_type": "code",
   "execution_count": 7,
   "metadata": {},
   "outputs": [
    {
     "data": {
      "text/plain": [
       "<QuerySet [<Subject: 일반의>, <Subject: 이비인후과>]>"
      ]
     },
     "execution_count": 7,
     "metadata": {},
     "output_type": "execute_result"
    }
   ],
   "source": [
    "Hospital.objects.first().subjects.all()"
   ]
  },
  {
   "cell_type": "code",
   "execution_count": 61,
   "metadata": {},
   "outputs": [],
   "source": [
    "a=Sido.objects.filter(sidoName__startswith='서울',gunguName='광진구').first().id"
   ]
  },
  {
   "cell_type": "code",
   "execution_count": 62,
   "metadata": {},
   "outputs": [
    {
     "data": {
      "text/plain": [
       "23"
      ]
     },
     "execution_count": 62,
     "metadata": {},
     "output_type": "execute_result"
    }
   ],
   "source": [
    "a"
   ]
  },
  {
   "cell_type": "code",
   "execution_count": 40,
   "metadata": {},
   "outputs": [
    {
     "data": {
      "text/plain": [
       "<QuerySet [<Sido: 서울특별시 강서구>]>"
      ]
     },
     "execution_count": 40,
     "metadata": {},
     "output_type": "execute_result"
    }
   ],
   "source": [
    "Sido.objects.filter("
   ]
  },
  {
   "cell_type": "code",
   "execution_count": 64,
   "metadata": {},
   "outputs": [],
   "source": [
    "a=Sido.objects.get(sidoName__startswith='서울',gunguName='강서구')"
   ]
  },
  {
   "cell_type": "code",
   "execution_count": 67,
   "metadata": {},
   "outputs": [
    {
     "data": {
      "text/plain": [
       "1"
      ]
     },
     "execution_count": 67,
     "metadata": {},
     "output_type": "execute_result"
    }
   ],
   "source": [
    "a.id"
>>>>>>> 1350833d3f376950a4593cbd590f126cfcd83d17
   ]
  },
  {
   "cell_type": "code",
   "execution_count": null,
   "metadata": {
    "collapsed": true
   },
   "outputs": [],
   "source": []
  }
 ],
 "metadata": {
  "kernelspec": {
   "display_name": "Django Shell-Plus",
   "language": "python",
   "name": "django_extensions"
  },
  "language_info": {
   "codemirror_mode": {
    "name": "ipython",
    "version": 3
   },
   "file_extension": ".py",
   "mimetype": "text/x-python",
   "name": "python",
   "nbconvert_exporter": "python",
   "pygments_lexer": "ipython3",
   "version": "3.6.3"
  }
 },
 "nbformat": 4,
 "nbformat_minor": 2
}
